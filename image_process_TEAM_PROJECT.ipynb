{
  "nbformat": 4,
  "nbformat_minor": 0,
  "metadata": {
    "colab": {
      "name": "image process TEAM_PROJECT.ipynb",
      "provenance": [],
      "collapsed_sections": [],
      "include_colab_link": true
    },
    "kernelspec": {
      "display_name": "Python 3",
      "name": "python3"
    },
    "language_info": {
      "name": "python"
    }
  },
  "cells": [
    {
      "cell_type": "markdown",
      "metadata": {
        "id": "view-in-github",
        "colab_type": "text"
      },
      "source": [
        "<a href=\"https://colab.research.google.com/github/vamsidh/Vamsi-s/blob/main/image_process_TEAM_PROJECT.ipynb\" target=\"_parent\"><img src=\"https://colab.research.google.com/assets/colab-badge.svg\" alt=\"Open In Colab\"/></a>"
      ]
    },
    {
      "cell_type": "code",
      "metadata": {
        "id": "pNQ7XP0aC498"
      },
      "source": [
        "import matplotlib.pyplot as plt\n",
        "import numpy as np\n",
        "import cv2\n",
        "import os\n",
        "import PIL\n",
        "import tensorflow as tf\n",
        "from tensorflow.keras.preprocessing import image\n",
        "\n",
        "from tensorflow import keras\n",
        "from tensorflow.keras import layers\n",
        "from tensorflow.keras.models import Sequential\n",
        "from tensorflow.keras.preprocessing.image import ImageDataGenerator\n",
        "from tensorflow.keras import Input, Model, models, layers\n",
        "from tensorflow.keras.optimizers import RMSprop  \n",
        "from tensorflow.keras.layers import Input,Lambda,Dense,Flatten\n",
        "from tensorflow.keras.applications.inception_v3 import InceptionV3,preprocess_input"
      ],
      "execution_count": null,
      "outputs": []
    },
    {
      "cell_type": "code",
      "metadata": {
        "colab": {
          "base_uri": "https://localhost:8080/"
        },
        "id": "SP9ckSYHJz_P",
        "outputId": "c9567695-77ee-4b25-d472-4bd67abbb233"
      },
      "source": [
        "from google.colab import drive\n",
        "drive.mount('/content/drive')"
      ],
      "execution_count": null,
      "outputs": [
        {
          "output_type": "stream",
          "name": "stdout",
          "text": [
            "Mounted at /content/drive\n"
          ]
        }
      ]
    },
    {
      "cell_type": "code",
      "metadata": {
        "colab": {
          "base_uri": "https://localhost:8080/"
        },
        "id": "wOQ8vOaGL7t0",
        "outputId": "de45c9f7-7fbf-4afb-fd96-690e63ebdb17"
      },
      "source": [
        "!pip install tensorflow\n"
      ],
      "execution_count": null,
      "outputs": [
        {
          "output_type": "stream",
          "name": "stdout",
          "text": [
            "Requirement already satisfied: tensorflow in /usr/local/lib/python3.7/dist-packages (2.6.0)\n",
            "Requirement already satisfied: numpy~=1.19.2 in /usr/local/lib/python3.7/dist-packages (from tensorflow) (1.19.5)\n",
            "Requirement already satisfied: absl-py~=0.10 in /usr/local/lib/python3.7/dist-packages (from tensorflow) (0.12.0)\n",
            "Requirement already satisfied: six~=1.15.0 in /usr/local/lib/python3.7/dist-packages (from tensorflow) (1.15.0)\n",
            "Requirement already satisfied: astunparse~=1.6.3 in /usr/local/lib/python3.7/dist-packages (from tensorflow) (1.6.3)\n",
            "Requirement already satisfied: google-pasta~=0.2 in /usr/local/lib/python3.7/dist-packages (from tensorflow) (0.2.0)\n",
            "Requirement already satisfied: grpcio<2.0,>=1.37.0 in /usr/local/lib/python3.7/dist-packages (from tensorflow) (1.41.0)\n",
            "Requirement already satisfied: termcolor~=1.1.0 in /usr/local/lib/python3.7/dist-packages (from tensorflow) (1.1.0)\n",
            "Requirement already satisfied: clang~=5.0 in /usr/local/lib/python3.7/dist-packages (from tensorflow) (5.0)\n",
            "Requirement already satisfied: opt-einsum~=3.3.0 in /usr/local/lib/python3.7/dist-packages (from tensorflow) (3.3.0)\n",
            "Requirement already satisfied: flatbuffers~=1.12.0 in /usr/local/lib/python3.7/dist-packages (from tensorflow) (1.12)\n",
            "Requirement already satisfied: protobuf>=3.9.2 in /usr/local/lib/python3.7/dist-packages (from tensorflow) (3.17.3)\n",
            "Requirement already satisfied: h5py~=3.1.0 in /usr/local/lib/python3.7/dist-packages (from tensorflow) (3.1.0)\n",
            "Requirement already satisfied: tensorflow-estimator~=2.6 in /usr/local/lib/python3.7/dist-packages (from tensorflow) (2.6.0)\n",
            "Requirement already satisfied: gast==0.4.0 in /usr/local/lib/python3.7/dist-packages (from tensorflow) (0.4.0)\n",
            "Requirement already satisfied: wheel~=0.35 in /usr/local/lib/python3.7/dist-packages (from tensorflow) (0.37.0)\n",
            "Requirement already satisfied: keras-preprocessing~=1.1.2 in /usr/local/lib/python3.7/dist-packages (from tensorflow) (1.1.2)\n",
            "Requirement already satisfied: tensorboard~=2.6 in /usr/local/lib/python3.7/dist-packages (from tensorflow) (2.6.0)\n",
            "Requirement already satisfied: wrapt~=1.12.1 in /usr/local/lib/python3.7/dist-packages (from tensorflow) (1.12.1)\n",
            "Requirement already satisfied: keras~=2.6 in /usr/local/lib/python3.7/dist-packages (from tensorflow) (2.6.0)\n",
            "Requirement already satisfied: typing-extensions~=3.7.4 in /usr/local/lib/python3.7/dist-packages (from tensorflow) (3.7.4.3)\n",
            "Requirement already satisfied: cached-property in /usr/local/lib/python3.7/dist-packages (from h5py~=3.1.0->tensorflow) (1.5.2)\n",
            "Requirement already satisfied: markdown>=2.6.8 in /usr/local/lib/python3.7/dist-packages (from tensorboard~=2.6->tensorflow) (3.3.4)\n",
            "Requirement already satisfied: tensorboard-plugin-wit>=1.6.0 in /usr/local/lib/python3.7/dist-packages (from tensorboard~=2.6->tensorflow) (1.8.0)\n",
            "Requirement already satisfied: google-auth<2,>=1.6.3 in /usr/local/lib/python3.7/dist-packages (from tensorboard~=2.6->tensorflow) (1.35.0)\n",
            "Requirement already satisfied: werkzeug>=0.11.15 in /usr/local/lib/python3.7/dist-packages (from tensorboard~=2.6->tensorflow) (1.0.1)\n",
            "Requirement already satisfied: google-auth-oauthlib<0.5,>=0.4.1 in /usr/local/lib/python3.7/dist-packages (from tensorboard~=2.6->tensorflow) (0.4.6)\n",
            "Requirement already satisfied: tensorboard-data-server<0.7.0,>=0.6.0 in /usr/local/lib/python3.7/dist-packages (from tensorboard~=2.6->tensorflow) (0.6.1)\n",
            "Requirement already satisfied: setuptools>=41.0.0 in /usr/local/lib/python3.7/dist-packages (from tensorboard~=2.6->tensorflow) (57.4.0)\n",
            "Requirement already satisfied: requests<3,>=2.21.0 in /usr/local/lib/python3.7/dist-packages (from tensorboard~=2.6->tensorflow) (2.23.0)\n",
            "Requirement already satisfied: pyasn1-modules>=0.2.1 in /usr/local/lib/python3.7/dist-packages (from google-auth<2,>=1.6.3->tensorboard~=2.6->tensorflow) (0.2.8)\n",
            "Requirement already satisfied: rsa<5,>=3.1.4 in /usr/local/lib/python3.7/dist-packages (from google-auth<2,>=1.6.3->tensorboard~=2.6->tensorflow) (4.7.2)\n",
            "Requirement already satisfied: cachetools<5.0,>=2.0.0 in /usr/local/lib/python3.7/dist-packages (from google-auth<2,>=1.6.3->tensorboard~=2.6->tensorflow) (4.2.4)\n",
            "Requirement already satisfied: requests-oauthlib>=0.7.0 in /usr/local/lib/python3.7/dist-packages (from google-auth-oauthlib<0.5,>=0.4.1->tensorboard~=2.6->tensorflow) (1.3.0)\n",
            "Requirement already satisfied: importlib-metadata in /usr/local/lib/python3.7/dist-packages (from markdown>=2.6.8->tensorboard~=2.6->tensorflow) (4.8.1)\n",
            "Requirement already satisfied: pyasn1<0.5.0,>=0.4.6 in /usr/local/lib/python3.7/dist-packages (from pyasn1-modules>=0.2.1->google-auth<2,>=1.6.3->tensorboard~=2.6->tensorflow) (0.4.8)\n",
            "Requirement already satisfied: certifi>=2017.4.17 in /usr/local/lib/python3.7/dist-packages (from requests<3,>=2.21.0->tensorboard~=2.6->tensorflow) (2021.5.30)\n",
            "Requirement already satisfied: urllib3!=1.25.0,!=1.25.1,<1.26,>=1.21.1 in /usr/local/lib/python3.7/dist-packages (from requests<3,>=2.21.0->tensorboard~=2.6->tensorflow) (1.24.3)\n",
            "Requirement already satisfied: chardet<4,>=3.0.2 in /usr/local/lib/python3.7/dist-packages (from requests<3,>=2.21.0->tensorboard~=2.6->tensorflow) (3.0.4)\n",
            "Requirement already satisfied: idna<3,>=2.5 in /usr/local/lib/python3.7/dist-packages (from requests<3,>=2.21.0->tensorboard~=2.6->tensorflow) (2.10)\n",
            "Requirement already satisfied: oauthlib>=3.0.0 in /usr/local/lib/python3.7/dist-packages (from requests-oauthlib>=0.7.0->google-auth-oauthlib<0.5,>=0.4.1->tensorboard~=2.6->tensorflow) (3.1.1)\n",
            "Requirement already satisfied: zipp>=0.5 in /usr/local/lib/python3.7/dist-packages (from importlib-metadata->markdown>=2.6.8->tensorboard~=2.6->tensorflow) (3.6.0)\n"
          ]
        }
      ]
    },
    {
      "cell_type": "code",
      "metadata": {
        "id": "DGwvWig2NzSk"
      },
      "source": [
        "train_dir = '/content/drive/MyDrive/Colab Notebooks/data agumentation/train'\n",
        "validate_dir = '/content/drive/MyDrive/Colab Notebooks/data agumentation/validate'\n"
      ],
      "execution_count": null,
      "outputs": []
    },
    {
      "cell_type": "code",
      "metadata": {
        "id": "tj5gfuBzN8jU"
      },
      "source": [
        "import pathlib\n",
        "train_dir=pathlib.Path(train_dir)\n",
        "validate_dir=pathlib.Path(validate_dir)"
      ],
      "execution_count": null,
      "outputs": []
    },
    {
      "cell_type": "code",
      "metadata": {
        "id": "k5jBQJKDOF4j"
      },
      "source": [
        "x=list(train_dir.glob('*/*.jpg'))\n",
        "y=list(validate_dir.glob('*/*.jpg'))"
      ],
      "execution_count": null,
      "outputs": []
    },
    {
      "cell_type": "code",
      "metadata": {
        "colab": {
          "base_uri": "https://localhost:8080/"
        },
        "id": "VEPWxzi1P0wf",
        "outputId": "3d1ac941-94a9-4bd5-e53e-29af5f5ceacb"
      },
      "source": [
        "train_datagen = ImageDataGenerator(rescale=1./255\n",
        " )\n",
        "train_set=train_datagen.flow_from_directory(train_dir,\n",
        "                                            target_size=(150,150),\n",
        "                                            batch_size=8,\n",
        "                                            class_mode='binary')"
      ],
      "execution_count": null,
      "outputs": [
        {
          "output_type": "stream",
          "name": "stdout",
          "text": [
            "Found 145 images belonging to 2 classes.\n"
          ]
        }
      ]
    },
    {
      "cell_type": "code",
      "metadata": {
        "colab": {
          "base_uri": "https://localhost:8080/"
        },
        "id": "XwJdJoSyeR73",
        "outputId": "8d2f957c-dbee-49f6-9512-72d079c48e7b"
      },
      "source": [
        "validate_datagen = ImageDataGenerator(rescale=1./255\n",
        ")\n",
        "validate_set=validate_datagen.flow_from_directory(validate_dir,\n",
        "                                            target_size=(150,150),\n",
        "                                            batch_size=8,\n",
        "                                            class_mode='binary')\n",
        "                                      "
      ],
      "execution_count": null,
      "outputs": [
        {
          "output_type": "stream",
          "name": "stdout",
          "text": [
            "Found 37 images belonging to 2 classes.\n"
          ]
        }
      ]
    },
    {
      "cell_type": "code",
      "metadata": {
        "colab": {
          "base_uri": "https://localhost:8080/"
        },
        "id": "S-e69KE1bn74",
        "outputId": "feae2dbb-e7b2-4bc6-e13c-068af39a9081"
      },
      "source": [
        "train_set.class_indices\n",
        "\n"
      ],
      "execution_count": null,
      "outputs": [
        {
          "output_type": "execute_result",
          "data": {
            "text/plain": [
              "{'not pvc': 0, 'pvc': 1}"
            ]
          },
          "metadata": {},
          "execution_count": 20
        }
      ]
    },
    {
      "cell_type": "code",
      "metadata": {
        "colab": {
          "base_uri": "https://localhost:8080/"
        },
        "id": "HVIgQf8pf7Jo",
        "outputId": "10dd289f-265a-4ee4-c35d-276cfae891c1"
      },
      "source": [
        "validate_set.class_indices\n"
      ],
      "execution_count": null,
      "outputs": [
        {
          "output_type": "execute_result",
          "data": {
            "text/plain": [
              "{'not pvc': 0, 'pvc': 1}"
            ]
          },
          "metadata": {},
          "execution_count": 21
        }
      ]
    },
    {
      "cell_type": "code",
      "metadata": {
        "id": "Jm9ft-iUXKKS"
      },
      "source": [
        "#data agumentation\n",
        "from keras.preprocessing.image import ImageDataGenerator, array_to_img, img_to_array, load_img\n",
        "\n",
        "datagen = ImageDataGenerator(rescale=1./255,\n",
        "        vertical_flip=True,\n",
        "        zoom_range=0.2,\n",
        "        rotation_range=45,\n",
        "        horizontal_flip=True)\n",
        "for image in x:\n",
        "  u=load_img(image)  # this is a PIL image\n",
        "  z = img_to_array(u)  # this is a Numpy array with shape (3, 150, 150)\n",
        "  z = z.reshape((1,) + z.shape)  # this is a Numpy array with shape (1, 3, 150, 150)\n",
        "\n",
        "# the .flow() command below generates batches of randomly transformed images\n",
        "\n",
        "  i = 0\n",
        "  for batch in datagen.flow(z, batch_size=1,\n",
        "                          save_to_dir='/content/drive/MyDrive/Colab Notebooks/data agumentation/train/pvc', save_prefix='pvc', save_format='jpg'):\n",
        "    i += 1\n",
        "    if i > 3:\n",
        "        break  # otherwise the generator would loop indefinitely"
      ],
      "execution_count": null,
      "outputs": []
    },
    {
      "cell_type": "code",
      "metadata": {
        "id": "REQ4yHVcUvhW"
      },
      "source": [
        "model=tf.keras.Sequential([tf.keras.layers.Conv2D(16,(3,3),activation = 'relu',input_shape =(150,150,3)),\n",
        "                            tf.keras.layers.MaxPool2D(2,2),\n",
        "                            #\n",
        "                            tf.keras.layers.Conv2D(32,(3,3),activation= 'relu'),\n",
        "                            tf.keras.layers.MaxPool2D(2,2),\n",
        "                            #\n",
        "                            tf.keras.layers.Conv2D(64,(3,3),activation= 'relu'),\n",
        "                            tf.keras.layers.MaxPool2D(2,2),\n",
        "                            ##\n",
        "                            tf.keras.layers.Flatten(),\n",
        "                            ##\n",
        "                            tf.keras.layers.Dense(512,activation='relu'),\n",
        "                            ##\n",
        "                            tf.keras.layers.Dense(1,activation='sigmoid')\n",
        "]\n",
        ")"
      ],
      "execution_count": null,
      "outputs": []
    },
    {
      "cell_type": "code",
      "metadata": {
        "id": "2ok9lGN1U5LM"
      },
      "source": [
        "model.compile(loss='binary_crossentropy',\n",
        "              optimizer= RMSprop(learning_rate=0.001),\n",
        "              metrics=['accuracy'])"
      ],
      "execution_count": null,
      "outputs": []
    },
    {
      "cell_type": "code",
      "metadata": {
        "colab": {
          "base_uri": "https://localhost:8080/"
        },
        "id": "cibeb3P4V-jj",
        "outputId": "d9c6b9da-7f44-444e-e29e-7b70e2d54d72"
      },
      "source": [
        "model_fit= model.fit(train_set,\n",
        "                     steps_per_epoch = 4,\n",
        "                     epochs=30,\n",
        "                     validation_data= validate_set)"
      ],
      "execution_count": null,
      "outputs": [
        {
          "output_type": "stream",
          "name": "stdout",
          "text": [
            "Epoch 1/30\n",
            "4/4 [==============================] - 10s 3s/step - loss: 1.1322 - accuracy: 0.5312 - val_loss: 1.0615 - val_accuracy: 0.4324\n",
            "Epoch 2/30\n",
            "4/4 [==============================] - 10s 3s/step - loss: 1.0630 - accuracy: 0.4375 - val_loss: 0.6402 - val_accuracy: 0.5676\n",
            "Epoch 3/30\n",
            "4/4 [==============================] - 10s 3s/step - loss: 0.6348 - accuracy: 0.6562 - val_loss: 0.5893 - val_accuracy: 0.5946\n",
            "Epoch 4/30\n",
            "4/4 [==============================] - 9s 3s/step - loss: 0.7711 - accuracy: 0.4800 - val_loss: 0.7324 - val_accuracy: 0.4595\n",
            "Epoch 5/30\n",
            "4/4 [==============================] - 10s 3s/step - loss: 0.6937 - accuracy: 0.5625 - val_loss: 0.6034 - val_accuracy: 0.6216\n",
            "Epoch 6/30\n",
            "4/4 [==============================] - 10s 3s/step - loss: 0.6605 - accuracy: 0.6562 - val_loss: 0.5674 - val_accuracy: 0.5946\n",
            "Epoch 7/30\n",
            "4/4 [==============================] - 10s 3s/step - loss: 0.5202 - accuracy: 0.6875 - val_loss: 0.5614 - val_accuracy: 0.6216\n",
            "Epoch 8/30\n",
            "4/4 [==============================] - 9s 2s/step - loss: 0.7885 - accuracy: 0.7200 - val_loss: 0.5473 - val_accuracy: 0.7297\n",
            "Epoch 9/30\n",
            "4/4 [==============================] - 10s 3s/step - loss: 0.6066 - accuracy: 0.6250 - val_loss: 0.5983 - val_accuracy: 0.7568\n",
            "Epoch 10/30\n",
            "4/4 [==============================] - 10s 3s/step - loss: 0.5253 - accuracy: 0.7812 - val_loss: 0.5726 - val_accuracy: 0.7568\n",
            "Epoch 11/30\n",
            "4/4 [==============================] - 9s 2s/step - loss: 0.8703 - accuracy: 0.6400 - val_loss: 0.8733 - val_accuracy: 0.5676\n",
            "Epoch 12/30\n",
            "4/4 [==============================] - 10s 3s/step - loss: 0.5153 - accuracy: 0.7188 - val_loss: 0.6328 - val_accuracy: 0.5946\n",
            "Epoch 13/30\n",
            "4/4 [==============================] - 10s 3s/step - loss: 0.4945 - accuracy: 0.7500 - val_loss: 0.6557 - val_accuracy: 0.6216\n",
            "Epoch 14/30\n",
            "4/4 [==============================] - 10s 3s/step - loss: 0.6324 - accuracy: 0.6250 - val_loss: 0.4320 - val_accuracy: 0.7568\n",
            "Epoch 15/30\n",
            "4/4 [==============================] - 9s 3s/step - loss: 0.5682 - accuracy: 0.6800 - val_loss: 0.4522 - val_accuracy: 0.9459\n",
            "Epoch 16/30\n",
            "4/4 [==============================] - 10s 3s/step - loss: 0.5730 - accuracy: 0.7812 - val_loss: 0.5426 - val_accuracy: 0.8378\n",
            "Epoch 17/30\n",
            "4/4 [==============================] - 10s 3s/step - loss: 0.4053 - accuracy: 0.8125 - val_loss: 0.4312 - val_accuracy: 0.7838\n",
            "Epoch 18/30\n",
            "4/4 [==============================] - 9s 2s/step - loss: 0.3903 - accuracy: 0.8400 - val_loss: 0.4607 - val_accuracy: 0.7297\n",
            "Epoch 19/30\n",
            "4/4 [==============================] - 9s 3s/step - loss: 0.6124 - accuracy: 0.7600 - val_loss: 1.2856 - val_accuracy: 0.4595\n",
            "Epoch 20/30\n",
            "4/4 [==============================] - 9s 2s/step - loss: 0.6278 - accuracy: 0.7600 - val_loss: 0.5696 - val_accuracy: 0.6216\n",
            "Epoch 21/30\n",
            "4/4 [==============================] - 9s 3s/step - loss: 1.0216 - accuracy: 0.8000 - val_loss: 0.8757 - val_accuracy: 0.5946\n",
            "Epoch 22/30\n",
            "4/4 [==============================] - 10s 3s/step - loss: 0.3606 - accuracy: 0.8438 - val_loss: 0.3041 - val_accuracy: 0.8378\n",
            "Epoch 23/30\n",
            "4/4 [==============================] - 10s 3s/step - loss: 0.3924 - accuracy: 0.8125 - val_loss: 0.4337 - val_accuracy: 0.8108\n",
            "Epoch 24/30\n",
            "4/4 [==============================] - 9s 3s/step - loss: 0.3865 - accuracy: 0.8125 - val_loss: 0.3114 - val_accuracy: 0.8378\n",
            "Epoch 25/30\n",
            "4/4 [==============================] - 10s 3s/step - loss: 0.1749 - accuracy: 0.9688 - val_loss: 0.2629 - val_accuracy: 0.8919\n",
            "Epoch 26/30\n",
            "4/4 [==============================] - 9s 3s/step - loss: 0.2648 - accuracy: 0.9600 - val_loss: 0.8648 - val_accuracy: 0.4595\n",
            "Epoch 27/30\n",
            "4/4 [==============================] - 10s 3s/step - loss: 0.8262 - accuracy: 0.7500 - val_loss: 0.5123 - val_accuracy: 0.7838\n",
            "Epoch 28/30\n",
            "4/4 [==============================] - 10s 3s/step - loss: 0.4003 - accuracy: 0.8438 - val_loss: 0.3256 - val_accuracy: 0.8649\n",
            "Epoch 29/30\n",
            "4/4 [==============================] - 9s 3s/step - loss: 0.5516 - accuracy: 0.6800 - val_loss: 0.3991 - val_accuracy: 0.8919\n",
            "Epoch 30/30\n",
            "4/4 [==============================] - 10s 3s/step - loss: 0.1907 - accuracy: 1.0000 - val_loss: 0.2735 - val_accuracy: 0.8919\n"
          ]
        }
      ]
    },
    {
      "cell_type": "code",
      "metadata": {
        "id": "ibt93ldzX56X"
      },
      "source": [
        "test_path='/content/drive/MyDrive/Colab Notebooks/data agumentation/test'\n",
        "for i in os.listdir(test_path):\n",
        "  \n",
        "  img=image.load_img(test_path+ '//'+ i,target_size=(150,150))\n",
        "  plt.imshow(img)\n",
        "  plt.show()\n",
        "  X=image.img_to_array(img)\n",
        "  X= np.expand_dims(X,axis=0)\n",
        "  images=np.vstack([X])\n",
        "\n",
        "  val=model.predict(images)\n",
        "  if val==0:\n",
        "    print(\"PVC Pipes not detected\")\n",
        "  else:\n",
        "    print(\"PVC pipe detected\")"
      ],
      "execution_count": null,
      "outputs": []
    }
  ]
}

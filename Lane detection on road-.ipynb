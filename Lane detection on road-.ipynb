{
 "cells": [
  {
   "cell_type": "code",
   "execution_count": 16,
   "id": "ef2d0242",
   "metadata": {},
   "outputs": [],
   "source": [
    "import cv2\n",
    "import numpy as np\n",
    "\n",
    "def make_coordinates(image, line_parameters):\n",
    "    slope, intercept=line_parameters\n",
    "    y1=image.shape[0]\n",
    "    y2=int(y1*(3/5))\n",
    "    x1=int((y1-intercept)/slope)\n",
    "    x2=int((y2-intercept)/slope)\n",
    "    return np.array([x1,y1,x2,y2])\n",
    "    \n",
    "\n",
    "def average_slope_intercept(image, lines):\n",
    "    left_fit=[]\n",
    "    right_fit=[]\n",
    "    for line in lines:\n",
    "        x1,y1,x2,y2=line.reshape(4)\n",
    "        parameters=np.polyfit((x1,x2), (y1,y2), 1)\n",
    "        slope=parameters[0]\n",
    "        intercept=parameters[1]\n",
    "        if slope < 0:\n",
    "            left_fit.append((slope, intercept))\n",
    "        else:\n",
    "            right_fit.append((slope, intercept))\n",
    "    left_fit_average=np.average(left_fit, axis=0)\n",
    "    right_fit_average=np.average(right_fit, axis=0)\n",
    "    left_line=make_coordinates(image, left_fit_average)\n",
    "    right_line=make_coordinates(image, right_fit_average)\n",
    "    return np.array([left_line, right_line])"
   ]
  },
  {
   "cell_type": "code",
   "execution_count": 17,
   "id": "f6f258a9",
   "metadata": {},
   "outputs": [],
   "source": [
    "def canny(image):\n",
    "    gray=cv2.cvtColor(image, cv2.COLOR_RGB2GRAY)\n",
    "    blur=cv2.GaussianBlur(gray, (5,5), 0)\n",
    "    canny=cv2.Canny(blur, 50, 150)\n",
    "    return canny"
   ]
  },
  {
   "cell_type": "code",
   "execution_count": 18,
   "id": "20e2d776",
   "metadata": {},
   "outputs": [],
   "source": [
    "def display_lines(image, lines):\n",
    "    line_image=np.zeros_like(image)\n",
    "    if lines is not None:\n",
    "        for x1,y1,x2,y2 in lines:\n",
    "            cv2.line(line_image, (x1,y1), (x2,y2), (255,0,0), 10)\n",
    "    return line_image"
   ]
  },
  {
   "cell_type": "code",
   "execution_count": 19,
   "id": "978adade",
   "metadata": {},
   "outputs": [],
   "source": [
    "def region_of_interest(image):\n",
    "    height=lane_image.shape[0]\n",
    "    polygons=np.array([\n",
    "    [(200, height),(1100, height),(550, 250)]\n",
    "    ])\n",
    "    mask=np.zeros_like(image)\n",
    "    cv2.fillPoly(mask, polygons, 255)\n",
    "    masked_image=cv2.bitwise_and(image, mask)\n",
    "    return masked_image"
   ]
  },
  {
   "cell_type": "code",
   "execution_count": 15,
   "id": "855b7b6b",
   "metadata": {},
   "outputs": [
    {
     "data": {
      "text/plain": [
       "-1"
      ]
     },
     "execution_count": 15,
     "metadata": {},
     "output_type": "execute_result"
    }
   ],
   "source": [
    "# image=cv2.imread('test_image.jpg')\n",
    "\n",
    "# lane_image=np.copy(image)\n",
    "\n",
    "# canny_image=canny(lane_image)\n",
    "\n",
    "# cropped_image=region_of_interest(canny_image)\n",
    "\n",
    "# lines=cv2.HoughLinesP(cropped_image, 2, np.pi/180, 100, np.array([]), minLineLength=40, maxLineGap=5)\n",
    "# averaged_lines=average_slope_intercept(lane_image, lines)\n",
    "# line_image=display_lines(lane_image, averaged_lines)\n",
    "# combo_image=cv2.addWeighted(lane_image, 0.8, line_image, 1, 1)\n",
    "# cv2.imshow('result', combo_image)\n",
    "\n",
    "# cv2.waitKey(0)\n",
    "\n"
   ]
  },
  {
   "cell_type": "code",
   "execution_count": 20,
   "id": "c443bfcc",
   "metadata": {},
   "outputs": [],
   "source": [
    "cap=cv2.VideoCapture('test2.mp4')\n",
    "while(cap.isOpened()):\n",
    "    _, frame=cap.read()\n",
    "    canny_image=canny(frame)\n",
    "\n",
    "    cropped_image=region_of_interest(canny_image)\n",
    "\n",
    "    lines=cv2.HoughLinesP(cropped_image, 2, np.pi/180, 100, np.array([]), minLineLength=40, maxLineGap=5)\n",
    "    averaged_lines=average_slope_intercept(frame, lines)\n",
    "    line_image=display_lines(frame, averaged_lines)\n",
    "    combo_image=cv2.addWeighted(frame, 0.8, line_image, 1, 1)\n",
    "    cv2.imshow('result', combo_image)\n",
    "\n",
    "    if cv2.waitKey(1) == ord('q'):\n",
    "        break\n",
    "cap.release()\n",
    "cv2.destroyAllWindows()\n"
   ]
  },
  {
   "cell_type": "code",
   "execution_count": null,
   "id": "e8a5ef5b",
   "metadata": {},
   "outputs": [],
   "source": [
    "# if cv2.waitKey(1) & 0xFF == ord('q'):"
   ]
  },
  {
   "cell_type": "code",
   "execution_count": 4,
   "id": "f570c6f9",
   "metadata": {},
   "outputs": [],
   "source": []
  },
  {
   "cell_type": "code",
   "execution_count": null,
   "id": "85e7d435",
   "metadata": {},
   "outputs": [],
   "source": []
  },
  {
   "cell_type": "code",
   "execution_count": null,
   "id": "c6251edd",
   "metadata": {},
   "outputs": [],
   "source": []
  },
  {
   "cell_type": "code",
   "execution_count": null,
   "id": "78c09521",
   "metadata": {},
   "outputs": [],
   "source": []
  },
  {
   "cell_type": "code",
   "execution_count": null,
   "id": "02308eda",
   "metadata": {},
   "outputs": [],
   "source": []
  }
 ],
 "metadata": {
  "kernelspec": {
   "display_name": "Python 3 (ipykernel)",
   "language": "python",
   "name": "python3"
  },
  "language_info": {
   "codemirror_mode": {
    "name": "ipython",
    "version": 3
   },
   "file_extension": ".py",
   "mimetype": "text/x-python",
   "name": "python",
   "nbconvert_exporter": "python",
   "pygments_lexer": "ipython3",
   "version": "3.9.7"
  }
 },
 "nbformat": 4,
 "nbformat_minor": 5
}
